{
  "nbformat": 4,
  "nbformat_minor": 0,
  "metadata": {
    "colab": {
      "name": "Word.ipynb",
      "provenance": [],
      "collapsed_sections": [],
      "authorship_tag": "ABX9TyPw1IGV/SjCfTCLT74SdIqb",
      "include_colab_link": true
    },
    "kernelspec": {
      "name": "python3",
      "display_name": "Python 3"
    },
    "language_info": {
      "name": "python"
    }
  },
  "cells": [
    {
      "cell_type": "markdown",
      "metadata": {
        "id": "view-in-github",
        "colab_type": "text"
      },
      "source": [
        "<a href=\"https://colab.research.google.com/github/Cerabbite/CGEL/blob/main/Word.ipynb\" target=\"_parent\"><img src=\"https://colab.research.google.com/assets/colab-badge.svg\" alt=\"Open In Colab\"/></a>"
      ]
    },
    {
      "cell_type": "markdown",
      "source": [
        "For each word in the top 10.000 most used English, Spanish, Japanese and Chinese words. There will be 100-1.000 sample sentences with those words (written in using the english alphabet). Using these sentences this script is going to work out how related words are."
      ],
      "metadata": {
        "id": "32YGG-XhZ2nR"
      }
    },
    {
      "cell_type": "code",
      "execution_count": 2,
      "metadata": {
        "id": "cXnCOjDzXq84"
      },
      "outputs": [],
      "source": [
        "# Import libraries\n",
        "#!pip install keras\n",
        "import tensorflow as tf\n",
        "from tensorflow.keras.preprocessing.sequence import pad_sequences\n",
        "from tensorflow.keras.layers import Embedding, LSTM, Dense, Bidirectional\n",
        "from tensorflow.keras.preprocessing.text import Tokenizer\n",
        "from tensorflow.keras.models import Sequential\n",
        "from tensorflow.keras.optimizers import Adam\n",
        "import numpy as np "
      ]
    },
    {
      "cell_type": "code",
      "source": [
        "tokenizer = Tokenizer()\n",
        "\n",
        "data = open(\"English sentences Dataset.txt\").read()\n",
        "corpus = data.lower().split(\"\\n\")\n",
        "\n",
        "avg_list = []\n",
        "for i in corpus:\n",
        "  avg_list.append(len(i.split(\" \")))\n",
        "\n",
        "print(sum(avg_list)/len(avg_list))\n",
        "tokenizer.fit_on_texts(corpus)\n",
        "total_words = len(tokenizer.word_index) + 1"
      ],
      "metadata": {
        "id": "52EKzVyx94-x",
        "colab": {
          "base_uri": "https://localhost:8080/"
        },
        "outputId": "bb16c606-8abe-4156-bea9-cdbde2477b86"
      },
      "execution_count": 33,
      "outputs": [
        {
          "output_type": "stream",
          "name": "stdout",
          "text": [
            "4.32687338501292\n"
          ]
        }
      ]
    },
    {
      "cell_type": "code",
      "source": [
        "input_sequences = []\n",
        "for line in corpus:\n",
        "  token_list = tokenizer.texts_to_sequences([line])[0]\n",
        "  for i in range(1, len(token_list)):\n",
        "    n_gram_sequence = token_list[:i+1]\n",
        "    input_sequences.append(n_gram_sequence)"
      ],
      "metadata": {
        "id": "LASs-ZPe-7PA"
      },
      "execution_count": 25,
      "outputs": []
    },
    {
      "cell_type": "code",
      "source": [
        "max_sequence_len = max([len(x) for x in input_sequences])\n",
        "input_sequences = np.array(pad_sequences(input_sequences, maxlen=max_sequence_len, padding='pre'))"
      ],
      "metadata": {
        "id": "lcRUEJqZ_33e"
      },
      "execution_count": 26,
      "outputs": []
    },
    {
      "cell_type": "code",
      "source": [
        "xs = input_sequences[:,:-1]\n",
        "labels = input_sequences[:,-1]\n",
        "\n",
        "ys = tf.keras.utils.to_categorical(labels, num_classes=total_words)"
      ],
      "metadata": {
        "id": "Lh3i1tL_AeAt"
      },
      "execution_count": 27,
      "outputs": []
    },
    {
      "cell_type": "code",
      "source": [
        "model = Sequential()\n",
        "model.add(Embedding(total_words, 100, input_length=max_sequence_len-1))\n",
        "model.add(Bidirectional(LSTM(150)))\n",
        "model.add(Dense(total_words, activation='softmax'))\n",
        "adam = Adam(lr=0.01)\n",
        "model.compile(loss='categorical_crossentropy', optimizer=adam, metrics=['accuracy'])\n",
        "history = model.fit(xs, ys, epochs=20, verbose=1)\n"
      ],
      "metadata": {
        "colab": {
          "base_uri": "https://localhost:8080/"
        },
        "id": "Vi4QA8LpAtVu",
        "outputId": "97ff70e4-562d-4056-adc7-6d485fa9ee30"
      },
      "execution_count": 28,
      "outputs": [
        {
          "output_type": "stream",
          "name": "stdout",
          "text": [
            "Epoch 1/20\n"
          ]
        },
        {
          "output_type": "stream",
          "name": "stderr",
          "text": [
            "/usr/local/lib/python3.7/dist-packages/keras/optimizer_v2/adam.py:105: UserWarning: The `lr` argument is deprecated, use `learning_rate` instead.\n",
            "  super(Adam, self).__init__(name, **kwargs)\n"
          ]
        },
        {
          "output_type": "stream",
          "name": "stdout",
          "text": [
            "81/81 [==============================] - 54s 41ms/step - loss: 5.6541 - accuracy: 0.0819\n",
            "Epoch 2/20\n",
            "81/81 [==============================] - 3s 41ms/step - loss: 4.6012 - accuracy: 0.1696\n",
            "Epoch 3/20\n",
            "81/81 [==============================] - 3s 41ms/step - loss: 3.4709 - accuracy: 0.2920\n",
            "Epoch 4/20\n",
            "81/81 [==============================] - 3s 41ms/step - loss: 2.4780 - accuracy: 0.4276\n",
            "Epoch 5/20\n",
            "81/81 [==============================] - 3s 40ms/step - loss: 1.8421 - accuracy: 0.5388\n",
            "Epoch 6/20\n",
            "81/81 [==============================] - 3s 39ms/step - loss: 1.4205 - accuracy: 0.6311\n",
            "Epoch 7/20\n",
            "81/81 [==============================] - 3s 40ms/step - loss: 1.2191 - accuracy: 0.6775\n",
            "Epoch 8/20\n",
            "81/81 [==============================] - 3s 40ms/step - loss: 1.0883 - accuracy: 0.6895\n",
            "Epoch 9/20\n",
            "81/81 [==============================] - 3s 40ms/step - loss: 1.0417 - accuracy: 0.6933\n",
            "Epoch 10/20\n",
            "81/81 [==============================] - 3s 41ms/step - loss: 0.9936 - accuracy: 0.6972\n",
            "Epoch 11/20\n",
            "81/81 [==============================] - 3s 40ms/step - loss: 0.9550 - accuracy: 0.7099\n",
            "Epoch 12/20\n",
            "81/81 [==============================] - 3s 40ms/step - loss: 0.9319 - accuracy: 0.7065\n",
            "Epoch 13/20\n",
            "81/81 [==============================] - 3s 42ms/step - loss: 0.9029 - accuracy: 0.7119\n",
            "Epoch 14/20\n",
            "81/81 [==============================] - 4s 44ms/step - loss: 0.9021 - accuracy: 0.7115\n",
            "Epoch 15/20\n",
            "81/81 [==============================] - 3s 42ms/step - loss: 0.8884 - accuracy: 0.7080\n",
            "Epoch 16/20\n",
            "81/81 [==============================] - 3s 40ms/step - loss: 0.8797 - accuracy: 0.7103\n",
            "Epoch 17/20\n",
            "81/81 [==============================] - 3s 41ms/step - loss: 0.8671 - accuracy: 0.7057\n",
            "Epoch 18/20\n",
            "81/81 [==============================] - 3s 39ms/step - loss: 0.8610 - accuracy: 0.7107\n",
            "Epoch 19/20\n",
            "81/81 [==============================] - 3s 39ms/step - loss: 0.8463 - accuracy: 0.7146\n",
            "Epoch 20/20\n",
            "81/81 [==============================] - 3s 39ms/step - loss: 0.8406 - accuracy: 0.7138\n"
          ]
        }
      ]
    },
    {
      "cell_type": "code",
      "source": [
        "# Test the model\n",
        "seed_text = \"\"\n",
        "next_words = 5\n",
        "\n",
        "for _ in range(next_words):\n",
        "  token_list = tokenizer.texts_to_sequences([seed_text])[0]\n",
        "  token_list = pad_sequences([token_list], maxlen=max_sequence_len-1, padding='pre')\n",
        "  predicted = model.predict(token_list, verbose=0)\n",
        "  classes = np.argmax(predicted,axis=1)\n",
        "  output_word = \"\"\n",
        "  for word, index in tokenizer.word_index.items():\n",
        "    if index == classes:\n",
        "      output_word = word\n",
        "      break\n",
        "  seed_text += f\" {output_word}\"\n",
        "\n",
        "print(seed_text)\n"
      ],
      "metadata": {
        "colab": {
          "base_uri": "https://localhost:8080/"
        },
        "id": "WLDrhih8DPIZ",
        "outputId": "deedf06b-a037-4e3d-f906-7315195beb9b"
      },
      "execution_count": 39,
      "outputs": [
        {
          "output_type": "stream",
          "name": "stdout",
          "text": [
            " is everything alright fact the\n"
          ]
        }
      ]
    }
  ]
}