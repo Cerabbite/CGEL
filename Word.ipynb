{
  "nbformat": 4,
  "nbformat_minor": 0,
  "metadata": {
    "colab": {
      "name": "Word.ipynb",
      "provenance": [],
      "collapsed_sections": [],
      "authorship_tag": "ABX9TyPwhq+WjYC+MkHAxl2MgYGW",
      "include_colab_link": true
    },
    "kernelspec": {
      "name": "python3",
      "display_name": "Python 3"
    },
    "language_info": {
      "name": "python"
    }
  },
  "cells": [
    {
      "cell_type": "markdown",
      "metadata": {
        "id": "view-in-github",
        "colab_type": "text"
      },
      "source": [
        "<a href=\"https://colab.research.google.com/github/Cerabbite/CGEL/blob/main/Word.ipynb\" target=\"_parent\"><img src=\"https://colab.research.google.com/assets/colab-badge.svg\" alt=\"Open In Colab\"/></a>"
      ]
    },
    {
      "cell_type": "markdown",
      "source": [
        "For each word in the top 10.000 most used English, Spanish, Japanese and Chinese words. There will be 100-1.000 sample sentences with those words (written in using the english alphabet). Using these sentences this script is going to work out how related words are."
      ],
      "metadata": {
        "id": "32YGG-XhZ2nR"
      }
    },
    {
      "cell_type": "code",
      "execution_count": 2,
      "metadata": {
        "id": "cXnCOjDzXq84"
      },
      "outputs": [],
      "source": [
        "# Import libraries\n",
        "#!pip install keras\n",
        "import tensorflow as tf\n",
        "from tensorflow.keras.preprocessing.sequence import pad_sequences\n",
        "from tensorflow.keras.layers import Embedding, LSTM, Dense, Bidirectional\n",
        "from tensorflow.keras.preprocessing.text import Tokenizer\n",
        "from tensorflow.keras.models import Sequential\n",
        "from tensorflow.keras.optimizers import Adam\n",
        "import numpy as np "
      ]
    },
    {
      "cell_type": "code",
      "source": [
        "tokenizer = Tokenizer()\n",
        "\n",
        "data = open(\"irish poetry.txt\").read()\n",
        "corpus = data.lower().split(\"\\n\")\n",
        "\n",
        "tokenizer.fit_on_texts(corpus)\n",
        "total_words = len(tokenizer.word_index) + 1"
      ],
      "metadata": {
        "id": "52EKzVyx94-x"
      },
      "execution_count": 3,
      "outputs": []
    },
    {
      "cell_type": "code",
      "source": [
        "input_sequences = []\n",
        "for line in corpus:\n",
        "  token_list = tokenizer.texts_to_sequences([line])[0]\n",
        "  for i in range(1, len(token_list)):\n",
        "    n_gram_sequence = token_list[:i+1]\n",
        "    input_sequences.append(n_gram_sequence)"
      ],
      "metadata": {
        "id": "LASs-ZPe-7PA"
      },
      "execution_count": 4,
      "outputs": []
    },
    {
      "cell_type": "code",
      "source": [
        "max_sequence_len = max([len(x) for x in input_sequences])\n",
        "input_sequences = np.array(pad_sequences(input_sequences, maxlen=max_sequence_len, padding='pre'))"
      ],
      "metadata": {
        "id": "lcRUEJqZ_33e"
      },
      "execution_count": 5,
      "outputs": []
    },
    {
      "cell_type": "code",
      "source": [
        "xs = input_sequences[:,:-1]\n",
        "labels = input_sequences[:,-1]\n",
        "\n",
        "ys = tf.keras.utils.to_categorical(labels, num_classes=total_words)"
      ],
      "metadata": {
        "id": "Lh3i1tL_AeAt"
      },
      "execution_count": 6,
      "outputs": []
    },
    {
      "cell_type": "code",
      "source": [
        "model = Sequential()\n",
        "model.add(Embedding(total_words, 100, input_length=max_sequence_len-1))\n",
        "model.add(Bidirectional(LSTM(150)))\n",
        "model.add(Dense(total_words, activation='softmax'))\n",
        "adam = Adam(lr=0.01)\n",
        "model.compile(loss='categorical_crossentropy', optimizer=adam, metrics=['accuracy'])\n",
        "history = model.fit(xs, ys, epochs=20, verbose=1)\n"
      ],
      "metadata": {
        "colab": {
          "base_uri": "https://localhost:8080/"
        },
        "id": "Vi4QA8LpAtVu",
        "outputId": "c890d45a-0e7e-4de3-961d-daa04f97fe6c"
      },
      "execution_count": 8,
      "outputs": [
        {
          "output_type": "stream",
          "name": "stdout",
          "text": [
            "Epoch 1/20\n"
          ]
        },
        {
          "output_type": "stream",
          "name": "stderr",
          "text": [
            "/usr/local/lib/python3.7/dist-packages/keras/optimizer_v2/adam.py:105: UserWarning: The `lr` argument is deprecated, use `learning_rate` instead.\n",
            "  super(Adam, self).__init__(name, **kwargs)\n"
          ]
        },
        {
          "output_type": "stream",
          "name": "stdout",
          "text": [
            "377/377 [==============================] - 31s 72ms/step - loss: 6.6547 - accuracy: 0.0729\n",
            "Epoch 2/20\n",
            "377/377 [==============================] - 27s 71ms/step - loss: 5.7625 - accuracy: 0.1133\n",
            "Epoch 3/20\n",
            "377/377 [==============================] - 27s 71ms/step - loss: 4.9098 - accuracy: 0.1679\n",
            "Epoch 4/20\n",
            "377/377 [==============================] - 27s 71ms/step - loss: 4.0198 - accuracy: 0.2311\n",
            "Epoch 5/20\n",
            "377/377 [==============================] - 27s 71ms/step - loss: 3.1897 - accuracy: 0.3360\n",
            "Epoch 6/20\n",
            "377/377 [==============================] - 27s 72ms/step - loss: 2.5242 - accuracy: 0.4308\n",
            "Epoch 7/20\n",
            "377/377 [==============================] - 27s 72ms/step - loss: 2.0318 - accuracy: 0.5293\n",
            "Epoch 8/20\n",
            "377/377 [==============================] - 27s 72ms/step - loss: 1.6885 - accuracy: 0.5993\n",
            "Epoch 9/20\n",
            "377/377 [==============================] - 27s 72ms/step - loss: 1.4148 - accuracy: 0.6659\n",
            "Epoch 10/20\n",
            "377/377 [==============================] - 28s 74ms/step - loss: 1.2598 - accuracy: 0.6966\n",
            "Epoch 11/20\n",
            "377/377 [==============================] - 27s 72ms/step - loss: 1.1261 - accuracy: 0.7240\n",
            "Epoch 12/20\n",
            "377/377 [==============================] - 27s 71ms/step - loss: 1.0499 - accuracy: 0.7431\n",
            "Epoch 13/20\n",
            "377/377 [==============================] - 27s 72ms/step - loss: 1.0509 - accuracy: 0.7375\n",
            "Epoch 14/20\n",
            "377/377 [==============================] - 27s 72ms/step - loss: 1.0623 - accuracy: 0.7318\n",
            "Epoch 15/20\n",
            "377/377 [==============================] - 27s 72ms/step - loss: 1.0868 - accuracy: 0.7219\n",
            "Epoch 16/20\n",
            "377/377 [==============================] - 27s 71ms/step - loss: 1.0802 - accuracy: 0.7240\n",
            "Epoch 17/20\n",
            "377/377 [==============================] - 27s 71ms/step - loss: 1.1909 - accuracy: 0.7002\n",
            "Epoch 18/20\n",
            "377/377 [==============================] - 27s 71ms/step - loss: 1.1101 - accuracy: 0.7151\n",
            "Epoch 19/20\n",
            "377/377 [==============================] - 27s 72ms/step - loss: 0.9785 - accuracy: 0.7483\n",
            "Epoch 20/20\n",
            "377/377 [==============================] - 27s 73ms/step - loss: 0.9400 - accuracy: 0.7579\n"
          ]
        }
      ]
    },
    {
      "cell_type": "code",
      "source": [
        "# Test the model\n",
        "seed_text = \"I made a poetry machine\"\n",
        "next_words = 10\n",
        "\n",
        "for _ in range(next_words):\n",
        "  token_list = tokenizer.texts_to_sequences([seed_text])[0]\n",
        "  token_list = pad_sequences([token_list], maxlen=max_sequence_len-1, padding='pre')\n",
        "  predicted = model.predict(token_list, verbose=0)\n",
        "  classes = np.argmax(predicted,axis=1)\n",
        "  output_word = \"\"\n",
        "  for word, index in tokenizer.word_index.items():\n",
        "    if index == classes:\n",
        "      output_word = word\n",
        "      break\n",
        "  seed_text += f\" {output_word}\"\n",
        "\n",
        "print(seed_text)\n"
      ],
      "metadata": {
        "colab": {
          "base_uri": "https://localhost:8080/"
        },
        "id": "WLDrhih8DPIZ",
        "outputId": "7a9aa39a-96c8-4c96-927e-94ada4524c07"
      },
      "execution_count": 12,
      "outputs": [
        {
          "output_type": "stream",
          "name": "stdout",
          "text": [
            "I made a poetry machine guns for erin go bragh the same dressed the roses\n"
          ]
        }
      ]
    }
  ]
}